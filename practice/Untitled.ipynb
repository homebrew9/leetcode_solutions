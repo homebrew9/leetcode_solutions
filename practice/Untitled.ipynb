{
 "cells": [
  {
   "cell_type": "code",
   "execution_count": 4,
   "id": "574a75eb",
   "metadata": {},
   "outputs": [
    {
     "name": "stdout",
     "output_type": "stream",
     "text": [
      "s = abcdefba\n",
      "r = False\n",
      "==================\n",
      "s = aaaaaa\n",
      "r = True\n",
      "==================\n",
      "s = aaabaaa\n",
      "r = True\n",
      "==================\n",
      "s = abcddcba\n",
      "r = True\n",
      "==================\n",
      "s = redivider\n",
      "r = True\n",
      "==================\n",
      "s = malayalam\n",
      "r = True\n",
      "==================\n",
      "s = abcdefghijklmnopqrstuvwxyztttttttttttttttzyxwvutsrqponmlkjihgfedcba\n",
      "r = True\n",
      "==================\n"
     ]
    }
   ],
   "source": [
    "def isPalindrome(s):\n",
    "    def solve(s):\n",
    "        if len(s) <= 1:\n",
    "            return True\n",
    "        if s[0] != s[-1]:\n",
    "            return False\n",
    "        return solve(s[1:-1])\n",
    "    return solve(s)\n",
    "\n",
    "for s in [\n",
    "            'abcdefba',\n",
    "            'aaaaaa',\n",
    "            'aaabaaa',\n",
    "            'abcddcba',\n",
    "            'redivider',\n",
    "            'malayalam',\n",
    "            'abcdefghijklmnopqrstuvwxyztttttttttttttttzyxwvutsrqponmlkjihgfedcba'\n",
    "         ]:\n",
    "    print(f's = {s}')\n",
    "    r = isPalindrome(s)\n",
    "    print(f'r = {r}')\n",
    "    print('==================')\n"
   ]
  },
  {
   "cell_type": "code",
   "execution_count": 5,
   "id": "a39091aa",
   "metadata": {},
   "outputs": [
    {
     "name": "stdout",
     "output_type": "stream",
     "text": [
      "s = abcdefba\n",
      "r = False\n",
      "==================\n",
      "s = aaaaaa\n",
      "r = True\n",
      "==================\n",
      "s = aaabaaa\n",
      "r = True\n",
      "==================\n",
      "s = abcddcba\n",
      "r = True\n",
      "==================\n",
      "s = redivider\n",
      "r = True\n",
      "==================\n",
      "s = malayalam\n",
      "r = True\n",
      "==================\n",
      "s = abcdefghijklmnopqrstuvwxyztttttttttttttttzyxwvutsrqponmlkjihgfedcba\n",
      "r = True\n",
      "==================\n"
     ]
    }
   ],
   "source": [
    "def isPalindrome(s):\n",
    "    def solve(s, left, right):\n",
    "        if left >= right:\n",
    "            return True\n",
    "        if s[left] != s[right]:\n",
    "            return False\n",
    "        return solve(s, left+1, right-1)\n",
    "    return solve(s, 0, len(s) - 1)\n",
    "\n",
    "for s in [\n",
    "            'abcdefba',\n",
    "            'aaaaaa',\n",
    "            'aaabaaa',\n",
    "            'abcddcba',\n",
    "            'redivider',\n",
    "            'malayalam',\n",
    "            'abcdefghijklmnopqrstuvwxyztttttttttttttttzyxwvutsrqponmlkjihgfedcba'\n",
    "         ]:\n",
    "    print(f's = {s}')\n",
    "    r = isPalindrome(s)\n",
    "    print(f'r = {r}')\n",
    "    print('==================')\n"
   ]
  },
  {
   "cell_type": "code",
   "execution_count": 12,
   "id": "46f85bab",
   "metadata": {},
   "outputs": [
    {
     "name": "stdout",
     "output_type": "stream",
     "text": [
      "s = bbbab\n",
      "r = 4\n",
      "========================\n",
      "s = cbbd\n",
      "r = 2\n",
      "========================\n",
      "s = vgpfhgdxfl\n",
      "r = 3\n",
      "========================\n",
      "s = upvgarvtptjnjkbtusgskremmcmnkfnajkuloydxevabqsgvtqoovgbolsoiddqwjuuqgejfcvykorsybarsbcacnpoicsrqkwqr\n",
      "r = 34\n",
      "========================\n",
      "s = onibfnbkjdgpzfhxmwmamrosuulkovspjharpntwkjuvjzbjwrnykwvdfurnxkuuemmyxavkeowloobdgmpbxczuufgtmkcoqeqcyentbofyamtbzoklwmwxeeoicghvflguogmzbnevemnqacpsjeneepozkuqmgpqinhjyclifmxuuvnmhieyhlqcmfvifeyzjbmmnenfexedoeznaghvshlcwhigqcuxsgodwtbmhfbyrfydsbivfdzgjxveynrntlnwjdswxneksffkzdxrtmlltkrxxbsxskwjzouxqdyauklvsbbxawmdrbmytigvpfvoituonpwzlspyuliyaaepxklpeqledgfjlxbkhjdxuuekxxbpqkpznpziatwtmmrkltycyxfbbofothmyofkycaswcrphrrrndxrnkzmeumsdtpxunjrkyxnjutrbzmvxvajgnpwimvabjaxmvuamjkfapxsgdfihozwojazlnhgyj\n",
      "r = 172\n",
      "========================\n"
     ]
    }
   ],
   "source": [
    "# Longest palindromic subsequence. s = 'bbbab' => ans = 4 ('bbbb'). s = 'cbbd' => ans = 2 ('bb')\n",
    "def longestPalindromeSubseq(s):\n",
    "    def LPS(i, j):\n",
    "        #print(f'\\t(i, j) = ({i}, {j})')\n",
    "        if (i, j) in memo:\n",
    "            return memo[(i,j)]\n",
    "        if i == j:\n",
    "            return 1\n",
    "        if i > j:\n",
    "            return 0\n",
    "        if s[i] == s[j]:\n",
    "            ans = 2 + LPS(i+1, j-1)\n",
    "        else:\n",
    "            ans = max(LPS(i+1, j), LPS(i, j-1))\n",
    "        memo[(i,j)] = ans\n",
    "        return memo[(i,j)]\n",
    "    memo = dict()\n",
    "    return LPS(0, len(s)-1)\n",
    "\n",
    "\n",
    "for s in [\n",
    "            'bbbab',\n",
    "            'cbbd',\n",
    "            'vgpfhgdxfl',\n",
    "            'upvgarvtptjnjkbtusgskremmcmnkfnajkuloydxevabqsgvtqoovgbolsoiddqwjuuqgejfcvykorsybarsbcacnpoicsrqkwqr',\n",
    "            'onibfnbkjdgpzfhxmwmamrosuulkovspjharpntwkjuvjzbjwrnykwvdfurnxkuuemmyxavkeowloobdgmpbxczuufgtmkcoqeqcyentbofyamtbzoklwmwxeeoicghvflguogmzbnevemnqacpsjeneepozkuqmgpqinhjyclifmxuuvnmhieyhlqcmfvifeyzjbmmnenfexedoeznaghvshlcwhigqcuxsgodwtbmhfbyrfydsbivfdzgjxveynrntlnwjdswxneksffkzdxrtmlltkrxxbsxskwjzouxqdyauklvsbbxawmdrbmytigvpfvoituonpwzlspyuliyaaepxklpeqledgfjlxbkhjdxuuekxxbpqkpznpziatwtmmrkltycyxfbbofothmyofkycaswcrphrrrndxrnkzmeumsdtpxunjrkyxnjutrbzmvxvajgnpwimvabjaxmvuamjkfapxsgdfihozwojazlnhgyj',\n",
    "         ]:\n",
    "    print(f's = {s}')\n",
    "    r = longestPalindromeSubseq(s)\n",
    "    print(f'r = {r}')\n",
    "    print('========================')\n",
    "\n"
   ]
  },
  {
   "cell_type": "code",
   "execution_count": null,
   "id": "9feaaca9",
   "metadata": {},
   "outputs": [],
   "source": []
  }
 ],
 "metadata": {
  "kernelspec": {
   "display_name": "Python 3 (ipykernel)",
   "language": "python",
   "name": "python3"
  },
  "language_info": {
   "codemirror_mode": {
    "name": "ipython",
    "version": 3
   },
   "file_extension": ".py",
   "mimetype": "text/x-python",
   "name": "python",
   "nbconvert_exporter": "python",
   "pygments_lexer": "ipython3",
   "version": "3.10.8"
  }
 },
 "nbformat": 4,
 "nbformat_minor": 5
}
